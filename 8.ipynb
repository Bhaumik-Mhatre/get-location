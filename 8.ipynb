{
  "nbformat": 4,
  "nbformat_minor": 0,
  "metadata": {
    "colab": {
      "provenance": [],
      "authorship_tag": "ABX9TyOdINNA+zxF7MG8i6CxrG45"
    },
    "kernelspec": {
      "name": "python3",
      "display_name": "Python 3"
    },
    "language_info": {
      "name": "python"
    }
  },
  "cells": [
    {
      "cell_type": "code",
      "execution_count": 11,
      "metadata": {
        "id": "DWdDXVocCYGQ"
      },
      "outputs": [],
      "source": [
        "def mcculloch_pitts_AND(inputs, weights, threshold):\n",
        "  weighted_sum = sum(i * w for i, w in zip(inputs, weights))\n",
        "  return 1 if weighted_sum >= threshold else 0"
      ]
    },
    {
      "cell_type": "code",
      "source": [
        "#for input 2\n",
        "input_data = [(0, 0), (0, 1), (1, 0), (1, 1)]\n",
        "weights = [1, 1]\n",
        "threshold=2"
      ],
      "metadata": {
        "id": "FMw-H5DnCqEI"
      },
      "execution_count": 12,
      "outputs": []
    },
    {
      "cell_type": "code",
      "source": [
        "print(\"2-Input AND Gate Outputs:\")\n",
        "for inputs in input_data:\n",
        "  weighted_sum = sum(i * w for i, w in zip(inputs, weights))\n",
        "  output = mcculloch_pitts_AND(inputs, weights, threshold)\n",
        "  print(f\"Input: {inputs} -> Weighted Sum: {weighted_sum} -> Neuron Output: {output}\")"
      ],
      "metadata": {
        "colab": {
          "base_uri": "https://localhost:8080/"
        },
        "id": "HFqA6BKLCzle",
        "outputId": "2a30e897-f526-452e-abbf-8d142f019fa5"
      },
      "execution_count": 13,
      "outputs": [
        {
          "output_type": "stream",
          "name": "stdout",
          "text": [
            "2-Input AND Gate Outputs:\n",
            "Input: (0, 0) -> Weighted Sum: 0 -> Neuron Output: 0\n",
            "Input: (0, 1) -> Weighted Sum: 1 -> Neuron Output: 0\n",
            "Input: (1, 0) -> Weighted Sum: 1 -> Neuron Output: 0\n",
            "Input: (1, 1) -> Weighted Sum: 2 -> Neuron Output: 1\n"
          ]
        }
      ]
    },
    {
      "cell_type": "code",
      "source": [
        "#for Input 3\n",
        "input_data = [\n",
        "  (0, 0, 0),\n",
        "  (0, 0, 1),\n",
        "  (0, 1, 0),\n",
        "  (0, 1, 1),\n",
        "  (1, 0, 0),\n",
        "  (1, 0, 1),\n",
        "  (1, 1, 0),\n",
        "  (1, 1, 1)\n",
        "]\n",
        "\n"
      ],
      "metadata": {
        "id": "PvBoY8gNDf7l"
      },
      "execution_count": 14,
      "outputs": []
    },
    {
      "cell_type": "code",
      "source": [
        "weights = [1, 1, 1]\n",
        "\n",
        "threshold = 3"
      ],
      "metadata": {
        "id": "B8pGZBpFD3Sj"
      },
      "execution_count": 15,
      "outputs": []
    },
    {
      "cell_type": "code",
      "source": [
        "print(\"3-Input AND Gate Outputs:\")\n",
        "\n",
        "for inputs in input_data:\n",
        "  weighted_sum = sum(i * w for i, w in zip(inputs, weights))\n",
        "  output = mcculloch_pitts_AND(inputs, weights, threshold)\n",
        "  print(f\"Input: {inputs} -> Weighted Sum: {weighted_sum} -> Neuron Output: {output}\")"
      ],
      "metadata": {
        "colab": {
          "base_uri": "https://localhost:8080/"
        },
        "id": "wR0-7EcJECPY",
        "outputId": "5f8c6e0c-6298-438a-c4d0-f0ce3385a923"
      },
      "execution_count": 16,
      "outputs": [
        {
          "output_type": "stream",
          "name": "stdout",
          "text": [
            "3-Input AND Gate Outputs:\n",
            "Input: (0, 0, 0) -> Weighted Sum: 0 -> Neuron Output: 0\n",
            "Input: (0, 0, 1) -> Weighted Sum: 1 -> Neuron Output: 0\n",
            "Input: (0, 1, 0) -> Weighted Sum: 1 -> Neuron Output: 0\n",
            "Input: (0, 1, 1) -> Weighted Sum: 2 -> Neuron Output: 0\n",
            "Input: (1, 0, 0) -> Weighted Sum: 1 -> Neuron Output: 0\n",
            "Input: (1, 0, 1) -> Weighted Sum: 2 -> Neuron Output: 0\n",
            "Input: (1, 1, 0) -> Weighted Sum: 2 -> Neuron Output: 0\n",
            "Input: (1, 1, 1) -> Weighted Sum: 3 -> Neuron Output: 1\n"
          ]
        }
      ]
    }
  ]
}