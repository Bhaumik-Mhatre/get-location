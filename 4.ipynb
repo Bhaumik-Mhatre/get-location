{
  "nbformat": 4,
  "nbformat_minor": 0,
  "metadata": {
    "colab": {
      "provenance": [],
      "authorship_tag": "ABX9TyMeLwTLyFafh8J5cUV8TMvV",
      "include_colab_link": true
    },
    "kernelspec": {
      "name": "python3",
      "display_name": "Python 3"
    },
    "language_info": {
      "name": "python"
    }
  },
  "cells": [
    {
      "cell_type": "markdown",
      "metadata": {
        "id": "view-in-github",
        "colab_type": "text"
      },
      "source": [
        "<a href=\"https://colab.research.google.com/github/Bhaumik-Mhatre/get-location/blob/main/4.ipynb\" target=\"_parent\"><img src=\"https://colab.research.google.com/assets/colab-badge.svg\" alt=\"Open In Colab\"/></a>"
      ]
    },
    {
      "cell_type": "code",
      "execution_count": 10,
      "metadata": {
        "id": "jqHHePyj81d1"
      },
      "outputs": [],
      "source": [
        "import numpy as np"
      ]
    },
    {
      "cell_type": "code",
      "source": [
        "def sigmoid(x):\n",
        "  return 1/(1 + пр.ехр(-х))"
      ],
      "metadata": {
        "id": "AKbdxyTy88lI"
      },
      "execution_count": 11,
      "outputs": []
    },
    {
      "cell_type": "code",
      "source": [
        "X = np.array([[-1, -1], [-1, 1], [1, -1], [1, 1]]) # Inputs\n",
        "bias = np.ones((X.shape[0], 1))\n",
        "X = np.hstack((X, bias))\n",
        "Y = np.array([[-1], [-1], [-1], [1]]) # AND gate outputs\n",
        "print(X) # To verify the result"
      ],
      "metadata": {
        "colab": {
          "base_uri": "https://localhost:8080/"
        },
        "id": "l8rdI0__9GwE",
        "outputId": "01ef9eb2-e57f-4a4d-9226-7b20c771dad4"
      },
      "execution_count": 13,
      "outputs": [
        {
          "output_type": "stream",
          "name": "stdout",
          "text": [
            "[[-1. -1.  1.]\n",
            " [-1.  1.  1.]\n",
            " [ 1. -1.  1.]\n",
            " [ 1.  1.  1.]]\n"
          ]
        }
      ]
    },
    {
      "cell_type": "code",
      "source": [
        "#Initialize weights to zero\n",
        "weights = np.zeros((3, 1))\n",
        "learning_rate = 1"
      ],
      "metadata": {
        "id": "96L1jSqy-HJ0"
      },
      "execution_count": 14,
      "outputs": []
    },
    {
      "cell_type": "code",
      "source": [
        "#Hebbian Learning Rule\n",
        "for i in range(len(X)):\n",
        "  weights += learning_rate * X[i].reshape(3, 1) * Y[i]\n",
        "  print(f\"Iteration {i+1}: Weights {weights.flatten()}\")"
      ],
      "metadata": {
        "colab": {
          "base_uri": "https://localhost:8080/"
        },
        "id": "YykH8b6s-TyJ",
        "outputId": "d1aa65d8-56c5-470f-bde6-f5d7d6729f1e"
      },
      "execution_count": 15,
      "outputs": [
        {
          "output_type": "stream",
          "name": "stdout",
          "text": [
            "Iteration 1: Weights [ 1.  1. -1.]\n",
            "Iteration 2: Weights [ 2.  0. -2.]\n",
            "Iteration 3: Weights [ 1.  1. -3.]\n",
            "Iteration 4: Weights [ 2.  2. -2.]\n"
          ]
        }
      ]
    },
    {
      "cell_type": "code",
      "source": [
        "#Print the final weight matrix after the 4th iteration\n",
        "print(\"Final Weight Matrix:\")\n",
        "print(weights)"
      ],
      "metadata": {
        "colab": {
          "base_uri": "https://localhost:8080/"
        },
        "id": "UFmL11Cc-0vN",
        "outputId": "cb5149c2-46a7-4351-cabd-3f11ceb30ba5"
      },
      "execution_count": 16,
      "outputs": [
        {
          "output_type": "stream",
          "name": "stdout",
          "text": [
            "Final Weight Matrix:\n",
            "[[ 2.]\n",
            " [ 2.]\n",
            " [-2.]]\n"
          ]
        }
      ]
    },
    {
      "cell_type": "code",
      "source": [
        "#Testing the model using sign function\n",
        "for itr in range(len(X)):\n",
        "  weighted_sum = np.dot (X[itr], weights)\n",
        "  output = np.sign(weighted_sum)\n",
        "  print(f\"Input: {X[itr]} -> Predicted Output: {output}\")"
      ],
      "metadata": {
        "colab": {
          "base_uri": "https://localhost:8080/"
        },
        "id": "EPxkLTXG-_OH",
        "outputId": "f4e50455-4759-4a66-9a6b-f31f1f5a447b"
      },
      "execution_count": 17,
      "outputs": [
        {
          "output_type": "stream",
          "name": "stdout",
          "text": [
            "Input: [-1. -1.  1.] -> Predicted Output: [-1.]\n",
            "Input: [-1.  1.  1.] -> Predicted Output: [-1.]\n",
            "Input: [ 1. -1.  1.] -> Predicted Output: [-1.]\n",
            "Input: [1. 1. 1.] -> Predicted Output: [1.]\n"
          ]
        }
      ]
    }
  ]
}